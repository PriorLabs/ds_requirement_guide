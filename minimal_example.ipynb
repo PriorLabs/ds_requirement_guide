{
 "cells": [
  {
   "cell_type": "markdown",
   "metadata": {},
   "source": [
    "## Code skeleton example for PriorLabs Fine-Tuning Program"
   ]
  },
  {
   "cell_type": "code",
   "execution_count": 1,
   "metadata": {},
   "outputs": [],
   "source": [
    "from __future__ import annotations\n",
    "\n",
    "from abc import ABC, abstractmethod\n",
    "from typing import Callable, Dict, List, Tuple\n",
    "import warnings\n",
    "\n",
    "import numpy as np\n",
    "import xgboost as xgb"
   ]
  },
  {
   "cell_type": "code",
   "execution_count": 2,
   "metadata": {},
   "outputs": [],
   "source": [
    "from src.utils import  benchmark_datasets"
   ]
  },
  {
   "cell_type": "markdown",
   "metadata": {},
   "source": [
    "#### 🧪  Minimal Example Implementation (synthetic data)"
   ]
  },
  {
   "cell_type": "code",
   "execution_count": null,
   "metadata": {},
   "outputs": [],
   "source": [
    "# Implement your own\n",
    "from src.data_processing.custom_datamodule import ExampleDataModule"
   ]
  },
  {
   "cell_type": "markdown",
   "metadata": {},
   "source": [
    "#### 🚀  Quick sanity check: classification"
   ]
  },
  {
   "cell_type": "code",
   "execution_count": 4,
   "metadata": {},
   "outputs": [
    {
     "name": "stderr",
     "output_type": "stream",
     "text": [
      "Datasets:   0%|          | 0/3 [00:00<?, ?it/s]"
     ]
    },
    {
     "name": "stderr",
     "output_type": "stream",
     "text": [
      "Datasets: 100%|██████████| 3/3 [00:02<00:00,  1.47it/s]"
     ]
    },
    {
     "name": "stdout",
     "output_type": "stream",
     "text": [
      "Mean scores across synthetic datasets:\n",
      "  MetricType.ACCURACY: 0.8397\n",
      "  MetricType.ROC_AUC: 0.9262\n",
      "  MetricType.F1: 0.8396\n",
      "  MetricType.LOG_LOSS: 0.4956\n"
     ]
    },
    {
     "name": "stderr",
     "output_type": "stream",
     "text": [
      "\n"
     ]
    }
   ],
   "source": [
    "dm = ExampleDataModule()\n",
    "X_train_list, y_train_list = dm.test_datasets()\n",
    "\n",
    "model = xgb.XGBClassifier(\n",
    "    eval_metric=\"logloss\", random_state=42, n_estimators=200,\n",
    ")\n",
    "\n",
    "scores = benchmark_datasets(model, X_train_list, y_train_list)\n",
    "print(\"Mean scores across synthetic datasets:\")\n",
    "for name, val in scores.items():\n",
    "    print(f\"  {name:8s}: {val:.4f}\")"
   ]
  },
  {
   "cell_type": "markdown",
   "metadata": {},
   "source": [
    "#### 🚀  Quick sanity check: regression"
   ]
  },
  {
   "cell_type": "code",
   "execution_count": 5,
   "metadata": {},
   "outputs": [
    {
     "name": "stderr",
     "output_type": "stream",
     "text": [
      "Datasets:  67%|██████▋   | 2/3 [00:01<00:00,  1.12it/s]"
     ]
    },
    {
     "name": "stderr",
     "output_type": "stream",
     "text": [
      "Datasets: 100%|██████████| 3/3 [00:02<00:00,  1.14it/s]"
     ]
    },
    {
     "name": "stdout",
     "output_type": "stream",
     "text": [
      "Mean scores across synthetic datasets:\n",
      "  MetricType.RMSE: 0.3216\n",
      "  MetricType.MSE: 0.1034\n",
      "  MetricType.MAE: 0.2088\n"
     ]
    },
    {
     "name": "stderr",
     "output_type": "stream",
     "text": [
      "\n"
     ]
    }
   ],
   "source": [
    "dm = ExampleDataModule()\n",
    "X_train_list, y_train_list = dm.test_datasets()\n",
    "\n",
    "model = xgb.XGBRFRegressor(\n",
    "    eval_metric=\"logloss\", random_state=42, n_estimators=200,\n",
    ")\n",
    "\n",
    "scores = benchmark_datasets(model, X_train_list, y_train_list)\n",
    "print(\"Mean scores across synthetic datasets:\")\n",
    "for name, val in scores.items():\n",
    "    print(f\"  {name:8s}: {val:.4f}\")"
   ]
  }
 ],
 "metadata": {
  "kernelspec": {
   "display_name": "Python (ft4_py311_env, micromamba)",
   "language": "python",
   "name": "ft4_py311_env"
  },
  "language_info": {
   "codemirror_mode": {
    "name": "ipython",
    "version": 3
   },
   "file_extension": ".py",
   "mimetype": "text/x-python",
   "name": "python",
   "nbconvert_exporter": "python",
   "pygments_lexer": "ipython3",
   "version": "3.11.12"
  }
 },
 "nbformat": 4,
 "nbformat_minor": 2
}
